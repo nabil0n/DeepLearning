{
 "cells": [
  {
   "cell_type": "markdown",
   "metadata": {},
   "source": [
    "---\n",
    "# CNN handwriting digit exercise\n",
    "\n",
    "---\n",
    "The number of stars (\\*), (\\*\\*), (\\*\\*\\*) denotes the difficulty level of the task\n",
    "\n",
    "---"
   ]
  },
  {
   "cell_type": "markdown",
   "metadata": {},
   "source": [
    "## 1. MNIST digits dataset (*)\n",
    "\n",
    "\n",
    "&nbsp; a) Start visualizing some of the sample images from keras.datasets.mnist\n",
    "\n",
    "&nbsp; b) Normalize the images to values between 0 and 1 \n",
    "\n",
    "&nbsp; c) Build a Convolutional Neural Network to classify the images.\n",
    "\n",
    "&nbsp; d) Compare the results against a Logistic classifier and/or a KNN, as well as a MLP neural network.\n",
    "\n",
    "<details>\n",
    "\n",
    "<summary>Hint</summary>\n",
    "A CNN is a stack of Convolutional layers and MaxPooling layers. Suitable filter sizes for three conv-layers are 32, 64 and 128. There should be a MaxPooling2D layer between each. The output layer should be a Dense layer with 10 nodes. The input layer should have shape (28,28,1) for the images. \n",
    "</details>\n",
    "\n",
    "<details>\n",
    "\n",
    "<summary>Answer</summary>\n",
    "<pre>\n",
    "import keras\n",
    "from keras import layers\n",
    "inputs = keras.Input(shape=(28, 28, 1))\n",
    "x = layers.Conv2D(filters=32, kernel_size=3, activation=\"relu\")(inputs)\n",
    "x = layers.MaxPooling2D(pool_size=2)(x)\n",
    "x = layers.Conv2D(filters=64, kernel_size=3, activation=\"relu\")(x)\n",
    "x = layers.MaxPooling2D(pool_size=2)(x)\n",
    "x = layers.Conv2D(filters=128, kernel_size=3, activation=\"relu\")(x)\n",
    "x = layers.Flatten()(x)\n",
    "outputs = layers.Dense(10, activation=\"softmax\")(x)\n",
    "model = keras.Model(inputs=inputs, outputs=outputs)\n",
    "</pre>\n",
    "</details>\n",
    "\n",
    "---"
   ]
  },
  {
   "cell_type": "markdown",
   "metadata": {},
   "source": [
    "## 2. Pokémon images dataset (**/***)\n",
    "\n",
    "\n",
    "&nbsp; a) Download both images and csv from https://www.kaggle.com/datasets/vishalsubbiah/pokemon-images-and-types\n",
    "\n",
    "&nbsp; b) Explore the dataset. How will you create labels for your training data?\n",
    "\n",
    "&nbsp; c) Create a train/val/test split. Decide what you are aiming for, ie engineer your features. Do you want to predict the pokemon type (water/fire/etc) from the image (difficulty: ** ), the evolutions (***) or something else? Do you need to augment your data (ie flipping the images etc)?\n",
    "\n",
    "&nbsp; d) Train and optimize your network for the chosen features. \n",
    "\n",
    "<details>\n",
    "\n",
    "<summary>Hint</summary>\n",
    "\n",
    "</details>\n",
    "\n",
    "<details>\n",
    "\n",
    "<summary>Answer</summary>\n",
    "<pre>\n",
    "</pre>\n",
    "</details>\n",
    "\n",
    "---"
   ]
  }
 ],
 "metadata": {
  "language_info": {
   "name": "python"
  }
 },
 "nbformat": 4,
 "nbformat_minor": 2
}
