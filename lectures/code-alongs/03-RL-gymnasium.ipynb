{
 "cells": [
  {
   "cell_type": "code",
   "execution_count": 1,
   "metadata": {},
   "outputs": [],
   "source": [
    "import gymnasium as gym\n",
    "import matplotlib.pyplot as plt\n",
    "import keras\n",
    "from keras import layers\n",
    "import ale_py\n",
    "from gymnasium.wrappers.atari_preprocessing import AtariPreprocessing\n",
    "from gymnasium.wrappers.frame_stack import FrameStack\n",
    "import numpy as np\n",
    "import tensorflow as tf\n",
    "\n",
    "gym.register_envs(ale_py)"
   ]
  },
  {
   "cell_type": "markdown",
   "metadata": {},
   "source": [
    "https://gymnasium.farama.org/ Bra sida för RL tutorials (och såklart all doc)"
   ]
  },
  {
   "cell_type": "code",
   "execution_count": 12,
   "metadata": {},
   "outputs": [],
   "source": [
    "env = gym.make(\"BreakoutNoFrameskip-v4\")\n",
    "env = AtariPreprocessing(env)\n",
    "env = FrameStack(env, 4)\n",
    "\n",
    "num_actions = env.action_space.n\n",
    "trigger = lambda x: x % 20 == 0\n",
    "# env = gym.wrappers.RecordVideo(env, video_folder=\"videos/\", episode_trigger=trigger, disable_logger=True)"
   ]
  },
  {
   "cell_type": "code",
   "execution_count": null,
   "metadata": {},
   "outputs": [],
   "source": [
    "def create_q_model():\n",
    "    return keras.Sequential(\n",
    "        [\n",
    "        keras.Input(shape=(84, 84, 4)),\n",
    "        layers.Conv2D(32, kernel_size=8, strides=4, activation=\"relu\"),\n",
    "        layers.Conv2D(64, kernel_size=4, strides=2, activation=\"relu\"), \n",
    "        layers.Conv2D(63, kernel_size=3, strides=1, activation=\"relu\"),\n",
    "        layers.Flatten(),\n",
    "        layers.Dense(512, activation=\"relu\"),\n",
    "        layers.Dense(num_actions, activation=\"linear\")\n",
    "    ]\n",
    ")"
   ]
  },
  {
   "cell_type": "code",
   "execution_count": 4,
   "metadata": {},
   "outputs": [
    {
     "name": "stderr",
     "output_type": "stream",
     "text": [
      "c:\\KODA\\ITHS\\9_DeepLearning\\DeepLearning\\.venv\\Lib\\site-packages\\keras\\src\\layers\\core\\lambda_layer.py:65: UserWarning: Do not pass an `input_shape`/`input_dim` argument to a layer. When using Sequential models, prefer using an `Input(shape)` object as the first layer in the model instead.\n",
      "  super().__init__(**kwargs)\n"
     ]
    }
   ],
   "source": [
    "model = create_q_model()\n",
    "model_target = create_q_model()\n",
    "\n",
    "optimizer = keras.optimizers.Adam(learning_rate=.00025, clipnorm=1.0)"
   ]
  },
  {
   "cell_type": "code",
   "execution_count": 5,
   "metadata": {},
   "outputs": [],
   "source": [
    "action_history = []\n",
    "state_history = []\n",
    "state_next_history = []\n",
    "done_history = []\n",
    "rewards_history = []\n",
    "episode_reward_history = []\n",
    "running_reward = 0\n",
    "episode_count = 0\n",
    "frame_count = 0"
   ]
  },
  {
   "cell_type": "code",
   "execution_count": 6,
   "metadata": {},
   "outputs": [],
   "source": [
    "gamma = 0.99\n",
    "epsilon = 1.0\n",
    "epsilon_min = 0.1\n",
    "epsilon_max = 1.0\n",
    "epsilon_interval = epsilon_max - epsilon_min\n",
    "batch_size = 32\n",
    "\n",
    "max_episodes = 0\n",
    "max_frames = 10_000_000\n",
    "\n",
    "# antalet frames att ta random actions och observera output\n",
    "epsilon_random_frames = 50_000\n",
    "# antalet av frames för utforskande\n",
    "epsilon_greedy_frames = 1_000_000\n",
    "# Max replay buffer\n",
    "max_memory_length = 100_000\n",
    "max_steps_per_episode = 10_000\n",
    "# Hur ofta ska vi uppdatera nätverket?\n",
    "update_after_actions = 4\n",
    "# Hur ofta ska Q-nätverket bli klonat från vårt nätverk\n",
    "update_target_network = 10_000\n",
    "# Vi använder HUBER för stabilitet, i kombo med Adam\n",
    "loss_function = keras.losses.Huber()"
   ]
  },
  {
   "cell_type": "code",
   "execution_count": null,
   "metadata": {},
   "outputs": [
    {
     "name": "stdout",
     "output_type": "stream",
     "text": [
      "Best score of last 100 episodes: 8.0, episode: 49, frame: 10000\n"
     ]
    },
    {
     "ename": "KeyboardInterrupt",
     "evalue": "",
     "output_type": "error",
     "traceback": [
      "\u001b[1;31m---------------------------------------------------------------------------\u001b[0m",
      "\u001b[1;31mKeyboardInterrupt\u001b[0m                         Traceback (most recent call last)",
      "Cell \u001b[1;32mIn[7], line 44\u001b[0m\n\u001b[0;32m     40\u001b[0m done_sample \u001b[38;5;241m=\u001b[39m keras\u001b[38;5;241m.\u001b[39mops\u001b[38;5;241m.\u001b[39mconvert_to_tensor([\u001b[38;5;28mfloat\u001b[39m(done_history[i]) \u001b[38;5;28;01mfor\u001b[39;00m i \u001b[38;5;129;01min\u001b[39;00m indices])\n\u001b[0;32m     42\u001b[0m future_rewards \u001b[38;5;241m=\u001b[39m model_target\u001b[38;5;241m.\u001b[39mpredict(state_next_sample, verbose\u001b[38;5;241m=\u001b[39m\u001b[38;5;241m0\u001b[39m)\n\u001b[1;32m---> 44\u001b[0m updated_q_values \u001b[38;5;241m=\u001b[39m rewards_sample \u001b[38;5;241m+\u001b[39m gamma \u001b[38;5;241m*\u001b[39m \u001b[43mkeras\u001b[49m\u001b[38;5;241;43m.\u001b[39;49m\u001b[43mops\u001b[49m\u001b[38;5;241;43m.\u001b[39;49m\u001b[43mamax\u001b[49m\u001b[43m(\u001b[49m\u001b[43mfuture_rewards\u001b[49m\u001b[43m,\u001b[49m\u001b[43m \u001b[49m\u001b[43maxis\u001b[49m\u001b[38;5;241;43m=\u001b[39;49m\u001b[38;5;241;43m1\u001b[39;49m\u001b[43m)\u001b[49m\n\u001b[0;32m     46\u001b[0m updated_q_values \u001b[38;5;241m=\u001b[39m updated_q_values\u001b[38;5;241m*\u001b[39m(\u001b[38;5;241m1\u001b[39m\u001b[38;5;241m-\u001b[39mdone_sample) \u001b[38;5;241m-\u001b[39m done_sample\n\u001b[0;32m     48\u001b[0m masks \u001b[38;5;241m=\u001b[39m keras\u001b[38;5;241m.\u001b[39mops\u001b[38;5;241m.\u001b[39mone_hot(action_sample, num_actions)\n",
      "File \u001b[1;32mc:\\KODA\\ITHS\\9_DeepLearning\\DeepLearning\\.venv\\Lib\\site-packages\\keras\\src\\ops\\numpy.py:321\u001b[0m, in \u001b[0;36mamax\u001b[1;34m(x, axis, keepdims)\u001b[0m\n\u001b[0;32m    314\u001b[0m     \u001b[38;5;28;01mdef\u001b[39;00m \u001b[38;5;21mcompute_output_spec\u001b[39m(\u001b[38;5;28mself\u001b[39m, x):\n\u001b[0;32m    315\u001b[0m         \u001b[38;5;28;01mreturn\u001b[39;00m KerasTensor(\n\u001b[0;32m    316\u001b[0m             reduce_shape(x\u001b[38;5;241m.\u001b[39mshape, axis\u001b[38;5;241m=\u001b[39m\u001b[38;5;28mself\u001b[39m\u001b[38;5;241m.\u001b[39maxis, keepdims\u001b[38;5;241m=\u001b[39m\u001b[38;5;28mself\u001b[39m\u001b[38;5;241m.\u001b[39mkeepdims),\n\u001b[0;32m    317\u001b[0m             dtype\u001b[38;5;241m=\u001b[39mx\u001b[38;5;241m.\u001b[39mdtype,\n\u001b[0;32m    318\u001b[0m         )\n\u001b[1;32m--> 321\u001b[0m \u001b[38;5;129m@keras_export\u001b[39m([\u001b[38;5;124m\"\u001b[39m\u001b[38;5;124mkeras.ops.amax\u001b[39m\u001b[38;5;124m\"\u001b[39m, \u001b[38;5;124m\"\u001b[39m\u001b[38;5;124mkeras.ops.numpy.amax\u001b[39m\u001b[38;5;124m\"\u001b[39m])\n\u001b[0;32m    322\u001b[0m \u001b[38;5;28;01mdef\u001b[39;00m \u001b[38;5;21mamax\u001b[39m(x, axis\u001b[38;5;241m=\u001b[39m\u001b[38;5;28;01mNone\u001b[39;00m, keepdims\u001b[38;5;241m=\u001b[39m\u001b[38;5;28;01mFalse\u001b[39;00m):\n\u001b[0;32m    323\u001b[0m \u001b[38;5;250m    \u001b[39m\u001b[38;5;124;03m\"\"\"Returns the maximum of an array or maximum value along an axis.\u001b[39;00m\n\u001b[0;32m    324\u001b[0m \n\u001b[0;32m    325\u001b[0m \u001b[38;5;124;03m    Args:\u001b[39;00m\n\u001b[1;32m   (...)\u001b[0m\n\u001b[0;32m    351\u001b[0m \u001b[38;5;124;03m    array([[8], [5]], dtype=int32)\u001b[39;00m\n\u001b[0;32m    352\u001b[0m \u001b[38;5;124;03m    \"\"\"\u001b[39;00m\n\u001b[0;32m    353\u001b[0m     \u001b[38;5;28;01mif\u001b[39;00m any_symbolic_tensors((x,)):\n",
      "\u001b[1;31mKeyboardInterrupt\u001b[0m: "
     ]
    }
   ],
   "source": [
    "while True:\n",
    "    observation, _ = env.reset()\n",
    "    state = np.array(observation)\n",
    "    episode_reward = 0\n",
    "    \n",
    "    for timestep in range(1, max_steps_per_episode):\n",
    "        frame_count += 1\n",
    "        \n",
    "        if frame_count < epsilon_random_frames or epsilon > np.random.rand(1)[0]:\n",
    "            # Take random action\n",
    "            action = env.action_space.sample()\n",
    "        else:\n",
    "            state_tensor = keras.ops.convert_to_tensor(state)\n",
    "            state_tensor = keras.ops.expand_dims(state_tensor, 0)\n",
    "            action_probs = model(state_tensor, training=False)\n",
    "            # Take best action\n",
    "            action = keras.ops.argmax(action_probs[0].numpy())\n",
    "        epsilon -= epsilon_interval / epsilon_greedy_frames\n",
    "        epsilon = max(epsilon, epsilon_min)\n",
    "        \n",
    "        state_next, reward, done, truncated, info = env.step(action)\n",
    "        state_next = np.array(state_next)\n",
    "        \n",
    "        episode_reward += reward\n",
    "        \n",
    "        action_history.append(action)\n",
    "        state_history.append(state)\n",
    "        state_next_history.append(state_next)\n",
    "        done_history.append(done)\n",
    "        rewards_history.append(reward)\n",
    "        state = state_next\n",
    "        \n",
    "        if frame_count % update_after_actions == 0 and len(done_history) > batch_size:\n",
    "            indices = np.random.choice(range(len(done_history)), size=batch_size)\n",
    "            \n",
    "            state_sample = np.array([state_history[i] for i in indices])\n",
    "            state_next_sample = np.array([state_next_history[i] for i in indices])\n",
    "            rewards_sample = [rewards_history[i] for i in indices]\n",
    "            action_sample = [action_history[i] for i in indices]\n",
    "            done_sample = keras.ops.convert_to_tensor([float(done_history[i]) for i in indices])\n",
    "            \n",
    "            future_rewards = model_target.predict(state_next_sample, verbose=0)\n",
    "            \n",
    "            updated_q_values = rewards_sample + gamma * keras.ops.amax(future_rewards, axis=1)\n",
    "            \n",
    "            updated_q_values = updated_q_values*(1-done_sample) - done_sample\n",
    "        \n",
    "            masks = keras.ops.one_hot(action_sample, num_actions)\n",
    "            \n",
    "            with tf.GradientTape() as tape:\n",
    "                q_values = model(state_sample)\n",
    "                q_action = keras.ops.sum(tf.math.multiply(q_values, masks), axis=1)\n",
    "                loss = loss_function(updated_q_values, q_action)\n",
    "            grads = tape.gradient(loss, model.trainable_variables)\n",
    "            optimizer.apply_gradients(zip(grads, model.trainable_variables))\n",
    "            \n",
    "        if frame_count % update_target_network == 0:\n",
    "            model_target.set_weights(model.get_weights())\n",
    "            print(f\"Best score of last 100 episodes: {max(episode_reward_history)}, episode: {episode_count}, frame: {frame_count}\")\n",
    "            model.save(f\"breakout_qmodel_{episode_count}.keras\")\n",
    "        \n",
    "        if len(rewards_history) > max_memory_length:\n",
    "            del rewards_history[:1]\n",
    "            del state_history[:1]\n",
    "            del state_next_history[:1]\n",
    "            del action_history[:1]\n",
    "            del done_history[:1]\n",
    "            \n",
    "        if done:\n",
    "            break\n",
    "    \n",
    "    episode_reward_history.append(episode_reward)\n",
    "    if len(episode_reward_history) > 100:\n",
    "        del episode_reward_history[:1]\n",
    "    running_reward = np.mean(episode_reward_history)\n",
    "    episode_count += 1\n",
    "    if running_reward > 40:\n",
    "        print(f\"Solved at episode {episode_count}!\")\n",
    "        model.save(f\"breakout_qmodel_solved.keras\")\n",
    "        break\n",
    "    if (max_episodes > 0 and episode_count >= max_episodes):\n",
    "        print(f\"Max episodes reached\")\n",
    "        print(f\"Stopped at episode {episode_count}\")\n",
    "        break\n",
    "    if (max_frames > 0 and frame_count >= max_frames):\n",
    "        print(f\"Max frames reached\")\n",
    "        print(f\"Stopped at frame {frame_count}\")\n",
    "        break"
   ]
  },
  {
   "cell_type": "code",
   "execution_count": null,
   "metadata": {},
   "outputs": [],
   "source": [
    "# observation, info = env.reset()\n",
    "\n",
    "# episode_over = False\n",
    "\n",
    "# while not episode_over:\n",
    "#     action = env.action_space.sample()\n",
    "#     observation, reward, terminated, truncated, info = env.step(action)\n",
    "    \n",
    "#     episode_over = terminated or truncated\n",
    "    \n",
    "# env.close() # För att frigöra minne"
   ]
  },
  {
   "cell_type": "code",
   "execution_count": null,
   "metadata": {},
   "outputs": [],
   "source": []
  }
 ],
 "metadata": {
  "kernelspec": {
   "display_name": ".venv",
   "language": "python",
   "name": "python3"
  },
  "language_info": {
   "codemirror_mode": {
    "name": "ipython",
    "version": 3
   },
   "file_extension": ".py",
   "mimetype": "text/x-python",
   "name": "python",
   "nbconvert_exporter": "python",
   "pygments_lexer": "ipython3",
   "version": "3.12.0"
  }
 },
 "nbformat": 4,
 "nbformat_minor": 2
}
