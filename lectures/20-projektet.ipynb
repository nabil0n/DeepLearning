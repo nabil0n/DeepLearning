{
 "cells": [
  {
   "cell_type": "markdown",
   "metadata": {},
   "source": [
    "# Projektet"
   ]
  },
  {
   "cell_type": "markdown",
   "metadata": {},
   "source": [
    "- i grupp\n",
    "- fri uppgift\n",
    "- hitta på något, synca med Raphael\n",
    "- tex lämpliga grejer:\n",
    "    - gammal labb men med deeplearning\n",
    "    - men alltså gärna eget! Bara det är koppling till DL\n",
    "- inlämning:\n",
    "    - skriftligt\n",
    "    - video tog för lång tid\n",
    "    - presentation\n",
    "- behandling av data\n",
    "- analys"
   ]
  },
  {
   "cell_type": "markdown",
   "metadata": {},
   "source": [
    "INTE MYCKET TID!"
   ]
  },
  {
   "cell_type": "markdown",
   "metadata": {},
   "source": [
    "Betygskriterier:\n",
    "- G:\n",
    "    - Se till att ha bidragit till kod och skriv egen rapport.\n",
    "- För VG:\n",
    "    - Prata om träning och inferens\n",
    "    - Utvärdera modellen och metoden\n",
    "    - Sätta upp ett problem och argumentera kring det, problemlösning."
   ]
  }
 ],
 "metadata": {
  "language_info": {
   "name": "python"
  }
 },
 "nbformat": 4,
 "nbformat_minor": 2
}
