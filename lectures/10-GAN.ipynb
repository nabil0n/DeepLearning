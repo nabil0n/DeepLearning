{
 "cells": [
  {
   "cell_type": "markdown",
   "metadata": {},
   "source": [
    "### 16e December\n",
    "\n",
    "# GAN - Generative Adveserial Networks"
   ]
  },
  {
   "cell_type": "markdown",
   "metadata": {},
   "source": [
    "Två generatorer:\n",
    "- Generator\n",
    "    - Genererar data, försöker lura diskriminatorn\n",
    "- Discriminator\n",
    "    - Försöker klassificera om datan är sann eller falsk, påhittad eller äkta"
   ]
  }
 ],
 "metadata": {
  "kernelspec": {
   "display_name": ".venv",
   "language": "python",
   "name": "python3"
  },
  "language_info": {
   "name": "python",
   "version": "3.12.0"
  }
 },
 "nbformat": 4,
 "nbformat_minor": 2
}
