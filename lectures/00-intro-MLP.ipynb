{
 "cells": [
  {
   "cell_type": "markdown",
   "metadata": {},
   "source": [
    "### 18e november\n",
    "\n",
    "# Intro"
   ]
  },
  {
   "cell_type": "markdown",
   "metadata": {},
   "source": [
    "- Den nya boken kommer användas ganska mycket, men inte obligatoriskt att skaffa\n",
    "    - Kolla författarens github för uppdaterade exempel.\n",
    "- Första veckan:\n",
    "    - MLP - Multi Layered Perceptrons\n",
    "- Examineringsformerna:\n",
    "    - Labb\n",
    "        - Enskild\n",
    "        - Spela PacMan\n",
    "    - Projekt\n",
    "        - I grupp (3-5st)\n",
    "        - Individuell video redovisning."
   ]
  },
  {
   "cell_type": "markdown",
   "metadata": {},
   "source": [
    "# Lite matte"
   ]
  },
  {
   "cell_type": "markdown",
   "metadata": {},
   "source": [
    "Begrepp:\n",
    "- Tensor\n",
    "    - generaliserade vektorer/matriser\n",
    "    - rank:\n",
    "        - en 0-tensor har rank 0 == ett tal tex 5\n",
    "        - en 1-tensor (rank1) == lista av tal\n",
    "        - 2-tensor (rank2) == en tabell/matris\n",
    "        - 3-tensor (rank3) == flera matriser liggandes på varandra likt en kub.\n",
    "        - osv\n",
    "    - Har vi ett NN med 20 lager har vi en rank20 tensor.\n",
    "    - En kolonnvektor anger bilden längs en viss axel.\n",
    "    - En matris är en linjär avbildning, alltså en funktion.\n",
    "        - Konvolvering == algoritm på tensor\n",
    "            - Kernel (INTE OS ELLER SVM)\n",
    "                - Ett \"fönster\" i vår matris\n",
    "                - Ett sätt att dela upp uträkningen av matrisen\n",
    "            - Andra sätt:\n",
    "                - determinanter\n",
    "                - med mera\n",
    "        - Förändring\n",
    "            - 2D: y = kx + m\n",
    "                - Derivata: dy/dx, y' | y = x^2 + 2x -1, 2x +2\n",
    "            3D: x^2 + y^2 + z^2 = 1\n",
    "                - Derivata: näää orkar inte skriva detta. Kolla stream."
   ]
  },
  {
   "cell_type": "markdown",
   "metadata": {},
   "source": [
    "Hur lager ser ut:\n",
    "- Output =\n",
    "    - activation (dot(*w*eights, input) + *b*ias)\n",
    "- Utan \"activation\" blir det en linjär funktion. Om något är icke-linjärt så blir allt icke-linjärt!"
   ]
  },
  {
   "cell_type": "code",
   "execution_count": 1,
   "metadata": {},
   "outputs": [
    {
     "data": {
      "text/plain": [
       "array(12)"
      ]
     },
     "execution_count": 1,
     "metadata": {},
     "output_type": "execute_result"
    }
   ],
   "source": [
    "# Datan behöver också vara en tensor\n",
    "\n",
    "import numpy as np\n",
    "\n",
    "x = np.array(12) # noll dimensionell tensor\n",
    "x"
   ]
  },
  {
   "cell_type": "code",
   "execution_count": 3,
   "metadata": {},
   "outputs": [
    {
     "data": {
      "text/plain": [
       "(array([12,  3,  6, 14,  7]), 1)"
      ]
     },
     "execution_count": 3,
     "metadata": {},
     "output_type": "execute_result"
    }
   ],
   "source": [
    "x = np.array([12, 3, 6, 14, 7]) # 1 dimensionell tensor\n",
    "x, x.ndim"
   ]
  },
  {
   "cell_type": "code",
   "execution_count": 4,
   "metadata": {},
   "outputs": [
    {
     "data": {
      "text/plain": [
       "(array([[ 5, 78,  2, 34,  0],\n",
       "        [ 1,  3,  2,  5,  2]]),\n",
       " 2)"
      ]
     },
     "execution_count": 4,
     "metadata": {},
     "output_type": "execute_result"
    }
   ],
   "source": [
    "x = np.array([[5, 78, 2, 34, 0], [1, 3, 2, 5, 2]]) # 2 dimensionell tensor\n",
    "x, x.ndim"
   ]
  },
  {
   "cell_type": "code",
   "execution_count": 7,
   "metadata": {},
   "outputs": [
    {
     "data": {
      "text/plain": [
       "(array([[[ 5, 78,  2, 34,  0],\n",
       "         [ 1,  3,  2,  5,  2]],\n",
       " \n",
       "        [[ 5, 78,  2, 34,  0],\n",
       "         [ 1,  3,  2,  5,  2]],\n",
       " \n",
       "        [[ 5, 78,  2, 34,  0],\n",
       "         [ 1,  3,  2,  5,  2]]]),\n",
       " 3)"
      ]
     },
     "execution_count": 7,
     "metadata": {},
     "output_type": "execute_result"
    }
   ],
   "source": [
    "x = np.array([ # 3 dimensionell tensor\n",
    "        [\n",
    "            [5, 78, 2, 34, 0],\n",
    "            [1, 3, 2, 5, 2]\n",
    "    ],\n",
    "        [\n",
    "            [5, 78, 2, 34, 0],\n",
    "            [1, 3, 2, 5, 2]\n",
    "    ],\n",
    "        [\n",
    "            [5, 78, 2, 34, 0],\n",
    "            [1, 3, 2, 5, 2]\n",
    "    ]\n",
    "])\n",
    "\n",
    "x, x.ndim"
   ]
  }
 ],
 "metadata": {
  "kernelspec": {
   "display_name": ".venv",
   "language": "python",
   "name": "python3"
  },
  "language_info": {
   "codemirror_mode": {
    "name": "ipython",
    "version": 3
   },
   "file_extension": ".py",
   "mimetype": "text/x-python",
   "name": "python",
   "nbconvert_exporter": "python",
   "pygments_lexer": "ipython3",
   "version": "3.12.0"
  }
 },
 "nbformat": 4,
 "nbformat_minor": 2
}
