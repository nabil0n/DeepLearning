{
 "cells": [
  {
   "cell_type": "markdown",
   "metadata": {},
   "source": [
    "# Projektet"
   ]
  },
  {
   "cell_type": "markdown",
   "metadata": {},
   "source": [
    "- i grupp\n",
    "- fri uppgift\n",
    "- hitta på något, synca med Raphael\n",
    "- tex lämpliga grejer:\n",
    "    - gammal labb men med deeplearning\n",
    "    - men alltså gärna eget! Bara det är koppling till DL\n",
    "- inlämning:\n",
    "    - skriftligt\n",
    "    - video tog för lång tid\n",
    "    - presentation\n",
    "- behandling av data\n",
    "- analys"
   ]
  },
  {
   "cell_type": "markdown",
   "metadata": {},
   "source": [
    "INTE MYCKET TID!"
   ]
  }
 ],
 "metadata": {
  "language_info": {
   "name": "python"
  }
 },
 "nbformat": 4,
 "nbformat_minor": 2
}
