{
 "cells": [
  {
   "cell_type": "markdown",
   "metadata": {},
   "source": [
    "### 20e november\n",
    "\n",
    "# MLP, kaggle, early stopping, dropout"
   ]
  },
  {
   "cell_type": "markdown",
   "metadata": {},
   "source": [
    "Började med codealong på E0. Lite grejer han gör annorlunda än mig:\n",
    "- Delar upp \"year\" i tre bins\n",
    "- gör inte dummies på \"cylinders\"\n",
    "- sätter \"X.values\" på uppdelningen av x,y\n",
    "- Sen massvis med grejer som inte stod i uppgiften. Men visar typ att med bara input/output layer får vi en linjär regression."
   ]
  }
 ],
 "metadata": {
  "kernelspec": {
   "display_name": ".venv",
   "language": "python",
   "name": "python3"
  },
  "language_info": {
   "name": "python",
   "version": "3.12.0"
  }
 },
 "nbformat": 4,
 "nbformat_minor": 2
}
